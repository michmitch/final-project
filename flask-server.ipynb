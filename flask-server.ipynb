{
  "nbformat": 4,
  "nbformat_minor": 0,
  "metadata": {
    "colab": {
      "name": "confidence-test-server-flask.ipynb",
      "provenance": [],
      "collapsed_sections": [
        "PLUHXRTRtb-b"
      ]
    },
    "kernelspec": {
      "name": "python3",
      "display_name": "Python 3"
    },
    "language_info": {
      "name": "python"
    }
  },
  "cells": [
    {
      "cell_type": "markdown",
      "metadata": {
        "id": "0e7qkZiyxkt8"
      },
      "source": [
        "# Fish Classification"
      ]
    },
    {
      "cell_type": "markdown",
      "metadata": {
        "id": "LWJ0XSJvXMkD"
      },
      "source": [
        "# Import Library"
      ]
    },
    {
      "cell_type": "code",
      "metadata": {
        "id": "6lbBwLg9XSHk"
      },
      "source": [
        "from google.colab import drive\n",
        "import matplotlib.pyplot as plt\n",
        "import cv2\n",
        "from keras import preprocessing\n",
        "import numpy as np\n",
        "import tensorflow as tf"
      ],
      "execution_count": null,
      "outputs": []
    },
    {
      "cell_type": "markdown",
      "metadata": {
        "id": "tnHpWigdXnfv"
      },
      "source": [
        "# Mount Drive"
      ]
    },
    {
      "cell_type": "code",
      "metadata": {
        "colab": {
          "base_uri": "https://localhost:8080/"
        },
        "id": "XEduyZlHXVR0",
        "outputId": "28d8a937-4a9d-47d1-b7bf-ac1cf05d240d"
      },
      "source": [
        "drive.mount('/content/mydrive', True)"
      ],
      "execution_count": null,
      "outputs": [
        {
          "output_type": "stream",
          "text": [
            "Mounted at /content/mydrive\n"
          ],
          "name": "stdout"
        }
      ]
    },
    {
      "cell_type": "markdown",
      "metadata": {
        "id": "aZXZinwTXrXF"
      },
      "source": [
        "# Load Model"
      ]
    },
    {
      "cell_type": "code",
      "metadata": {
        "id": "BAN3pt0mXquz"
      },
      "source": [
        "from distutils.dir_util import copy_tree\n",
        "copy_tree('/content/mydrive/My Drive/datasets/fish_classification_model', '/content/fish_classification_model/')"
      ],
      "execution_count": null,
      "outputs": []
    },
    {
      "cell_type": "code",
      "metadata": {
        "id": "iXj6e58PaJOo"
      },
      "source": [
        "fish_classification_model = tf.keras.models.load_model('/content/fish_classification_model/fish_classification.h5')"
      ],
      "execution_count": null,
      "outputs": []
    },
    {
      "cell_type": "code",
      "metadata": {
        "id": "3Esai1XUBnqU"
      },
      "source": [
        "fish_classification_model = tf.keras.models.load_model('/content/mydrive/My Drive/datasets/fish_classification_model/fish_classification.h5')"
      ],
      "execution_count": null,
      "outputs": []
    },
    {
      "cell_type": "markdown",
      "metadata": {
        "id": "5eKi3-5taYSO"
      },
      "source": [
        "# Image Processing Function"
      ]
    },
    {
      "cell_type": "code",
      "metadata": {
        "id": "tLExNnXKaSmr"
      },
      "source": [
        "import urllib\n",
        "\n",
        "def url_to_image(url):\n",
        "  resp = urllib.request.urlopen(url)\n",
        "  image = np.asarray(bytearray(resp.read()), dtype=\"uint8\")\n",
        "  image = cv2.imdecode(image, cv2.IMREAD_COLOR)\n",
        "  # plt.imshow(image)\n",
        "  return image\n",
        "\n",
        "def resizeAndPad(img, size, padColor=0):\n",
        "\n",
        "    h, w = img.shape[:2]\n",
        "    sh, sw = size\n",
        "\n",
        "    # interpolation method\n",
        "    if h > sh or w > sw: # shrinking image\n",
        "        interp = cv2.INTER_AREA\n",
        "    else: # stretching image\n",
        "        interp = cv2.INTER_CUBIC\n",
        "\n",
        "    # aspect ratio of image\n",
        "    aspect = w/h  # if on Python 2, you might need to cast as a float: float(w)/h\n",
        "\n",
        "    # compute scaling and pad sizing\n",
        "    if aspect > 1: # horizontal image\n",
        "        new_w = sw\n",
        "        new_h = np.round(new_w/aspect).astype(int)\n",
        "        pad_vert = (sh-new_h)/2\n",
        "        pad_top, pad_bot = np.floor(pad_vert).astype(int), np.ceil(pad_vert).astype(int)\n",
        "        pad_left, pad_right = 0, 0\n",
        "    elif aspect < 1: # vertical image\n",
        "        new_h = sh\n",
        "        new_w = np.round(new_h*aspect).astype(int)\n",
        "        pad_horz = (sw-new_w)/2\n",
        "        pad_left, pad_right = np.floor(pad_horz).astype(int), np.ceil(pad_horz).astype(int)\n",
        "        pad_top, pad_bot = 0, 0\n",
        "    else: # square image\n",
        "        new_h, new_w = sh, sw\n",
        "        pad_left, pad_right, pad_top, pad_bot = 0, 0, 0, 0\n",
        "\n",
        "    # set pad color\n",
        "    if len(img.shape) == 3 and not isinstance(padColor, (list, tuple, np.ndarray)): # color image but only one color provided\n",
        "        padColor = [padColor]*3\n",
        "\n",
        "    # scale and pad\n",
        "    scaled_img = cv2.resize(img, (new_w, new_h), interpolation=interp)\n",
        "    scaled_img = cv2.copyMakeBorder(scaled_img, pad_top, pad_bot, pad_left, pad_right, borderType=cv2.BORDER_CONSTANT, value=padColor)\n",
        "\n",
        "    return scaled_img\n"
      ],
      "execution_count": null,
      "outputs": []
    },
    {
      "cell_type": "markdown",
      "metadata": {
        "id": "a6-2rer8bTHY"
      },
      "source": [
        "# Variables"
      ]
    },
    {
      "cell_type": "code",
      "metadata": {
        "id": "rs4qdW8UbSTz"
      },
      "source": [
        "class_name = ['BANDENG', 'GURAME', 'KERAPU', 'NILA']\n",
        "\n",
        "width = 200\n",
        "height = 200"
      ],
      "execution_count": null,
      "outputs": []
    },
    {
      "cell_type": "markdown",
      "metadata": {
        "id": "7oOqyaYkcKmL"
      },
      "source": [
        "# Predict Fish Class Function"
      ]
    },
    {
      "cell_type": "code",
      "metadata": {
        "id": "_a68L8UbazDW"
      },
      "source": [
        "def predict_fish_classification(image_link):\n",
        "  image_url = str(image_link)\n",
        "  image_url = image_url+'?alt=media'\n",
        "  image = url_to_image(image_url)\n",
        "  # image = 'IMG_20210126_135506.jpg'\n",
        "  # image = cv2.imread(image)\n",
        "  image = resizeAndPad(image, (width, height))\n",
        "  image = image[...,::-1]\n",
        "  type_predict = np.expand_dims(image, axis=0)\n",
        "  pred = fish_classification_model.predict(type_predict)\n",
        "  jenis_ikan = class_name[np.argmax(pred)]\n",
        "\n",
        "  jenis_ikan_confidence = int(round(pred[0][np.argmax(pred)], 2) * 100)\n",
        "\n",
        "  jenis_dan_confidence = jenis_ikan + ' ' + str(jenis_ikan_confidence) + '%'\n",
        "\n",
        "  print(pred)\n",
        "  print(jenis_ikan)\n",
        "\n",
        "  # plt.imshow(image)\n",
        "  # plt.show()\n",
        "  # return jenis_ikan\n",
        "  return jenis_dan_confidence"
      ],
      "execution_count": null,
      "outputs": []
    },
    {
      "cell_type": "markdown",
      "metadata": {
        "id": "zWXQwD3rxc_9"
      },
      "source": [
        "# Detect Fish Eye"
      ]
    },
    {
      "cell_type": "markdown",
      "metadata": {
        "id": "t9z_rvTcxxRc"
      },
      "source": [
        "# Install Dependencies"
      ]
    },
    {
      "cell_type": "code",
      "metadata": {
        "colab": {
          "base_uri": "https://localhost:8080/"
        },
        "id": "883OJo-Txh03",
        "outputId": "e58d554a-d024-4345-86c0-fc666c25a6ec"
      },
      "source": [
        "# install dependencies: \n",
        "!pip install pyyaml==5.1\n",
        "!pip install torch==1.8 torchvision==0.9.0\n",
        "# !pip install \n",
        "import torch, torchvision\n",
        "print(torch.__version__, torch.cuda.is_available())\n",
        "!gcc --version\n",
        "# opencv is pre-installed on colab"
      ],
      "execution_count": null,
      "outputs": [
        {
          "output_type": "stream",
          "text": [
            "Requirement already satisfied: pyyaml==5.1 in /usr/local/lib/python3.7/dist-packages (5.1)\n",
            "Requirement already satisfied: torch==1.8 in /usr/local/lib/python3.7/dist-packages (1.8.0)\n",
            "Requirement already satisfied: torchvision==0.9.0 in /usr/local/lib/python3.7/dist-packages (0.9.0)\n",
            "Requirement already satisfied: numpy in /usr/local/lib/python3.7/dist-packages (from torch==1.8) (1.19.5)\n",
            "Requirement already satisfied: typing-extensions in /usr/local/lib/python3.7/dist-packages (from torch==1.8) (3.7.4.3)\n",
            "Requirement already satisfied: pillow>=4.1.1 in /usr/local/lib/python3.7/dist-packages (from torchvision==0.9.0) (7.1.2)\n",
            "1.8.0 False\n",
            "gcc (Ubuntu 7.5.0-3ubuntu1~18.04) 7.5.0\n",
            "Copyright (C) 2017 Free Software Foundation, Inc.\n",
            "This is free software; see the source for copying conditions.  There is NO\n",
            "warranty; not even for MERCHANTABILITY or FITNESS FOR A PARTICULAR PURPOSE.\n",
            "\n"
          ],
          "name": "stdout"
        }
      ]
    },
    {
      "cell_type": "code",
      "metadata": {
        "colab": {
          "base_uri": "https://localhost:8080/"
        },
        "id": "o6m9UjQgx7P8",
        "outputId": "5ec6f04d-e2ae-40e4-ea8f-06160803efd2"
      },
      "source": [
        "# install detectron2: (Colab has CUDA 10.1 + torch 1.8)\n",
        "# See https://detectron2.readthedocs.io/tutorials/install.html for instructions\n",
        "import torch\n",
        "assert torch.__version__.startswith(\"1.8\")   # need to manually install torch 1.8 if Colab changes its default version\n",
        "!pip install detectron2 -f https://dl.fbaipublicfiles.com/detectron2/wheels/cu101/torch1.8/index.html\n",
        "# exit(0)  # After installation, you need to \"restart runtime\" in Colab. This line can also restart runtime"
      ],
      "execution_count": null,
      "outputs": [
        {
          "output_type": "stream",
          "text": [
            "Looking in links: https://dl.fbaipublicfiles.com/detectron2/wheels/cu101/torch1.8/index.html\n",
            "Requirement already satisfied: detectron2 in /usr/local/lib/python3.7/dist-packages (0.4+cu101)\n",
            "Requirement already satisfied: omegaconf>=2 in /usr/local/lib/python3.7/dist-packages (from detectron2) (2.1.0)\n",
            "Requirement already satisfied: tensorboard in /usr/local/lib/python3.7/dist-packages (from detectron2) (2.5.0)\n",
            "Requirement already satisfied: matplotlib in /usr/local/lib/python3.7/dist-packages (from detectron2) (3.2.2)\n",
            "Requirement already satisfied: tqdm>4.29.0 in /usr/local/lib/python3.7/dist-packages (from detectron2) (4.41.1)\n",
            "Requirement already satisfied: termcolor>=1.1 in /usr/local/lib/python3.7/dist-packages (from detectron2) (1.1.0)\n",
            "Requirement already satisfied: fvcore<0.1.4,>=0.1.3 in /usr/local/lib/python3.7/dist-packages (from detectron2) (0.1.3.post20210317)\n",
            "Requirement already satisfied: Pillow>=7.1 in /usr/local/lib/python3.7/dist-packages (from detectron2) (7.1.2)\n",
            "Requirement already satisfied: yacs>=0.1.6 in /usr/local/lib/python3.7/dist-packages (from detectron2) (0.1.8)\n",
            "Requirement already satisfied: future in /usr/local/lib/python3.7/dist-packages (from detectron2) (0.16.0)\n",
            "Requirement already satisfied: tabulate in /usr/local/lib/python3.7/dist-packages (from detectron2) (0.8.9)\n",
            "Requirement already satisfied: pycocotools>=2.0.2 in /usr/local/lib/python3.7/dist-packages (from detectron2) (2.0.2)\n",
            "Requirement already satisfied: iopath>=0.1.2 in /usr/local/lib/python3.7/dist-packages (from detectron2) (0.1.9)\n",
            "Requirement already satisfied: pydot in /usr/local/lib/python3.7/dist-packages (from detectron2) (1.3.0)\n",
            "Requirement already satisfied: cloudpickle in /usr/local/lib/python3.7/dist-packages (from detectron2) (1.3.0)\n",
            "Requirement already satisfied: PyYAML>=5.1.* in /usr/local/lib/python3.7/dist-packages (from omegaconf>=2->detectron2) (5.1)\n",
            "Requirement already satisfied: antlr4-python3-runtime==4.8 in /usr/local/lib/python3.7/dist-packages (from omegaconf>=2->detectron2) (4.8)\n",
            "Requirement already satisfied: grpcio>=1.24.3 in /usr/local/lib/python3.7/dist-packages (from tensorboard->detectron2) (1.34.1)\n",
            "Requirement already satisfied: setuptools>=41.0.0 in /usr/local/lib/python3.7/dist-packages (from tensorboard->detectron2) (57.0.0)\n",
            "Requirement already satisfied: numpy>=1.12.0 in /usr/local/lib/python3.7/dist-packages (from tensorboard->detectron2) (1.19.5)\n",
            "Requirement already satisfied: tensorboard-plugin-wit>=1.6.0 in /usr/local/lib/python3.7/dist-packages (from tensorboard->detectron2) (1.8.0)\n",
            "Requirement already satisfied: absl-py>=0.4 in /usr/local/lib/python3.7/dist-packages (from tensorboard->detectron2) (0.12.0)\n",
            "Requirement already satisfied: wheel>=0.26; python_version >= \"3\" in /usr/local/lib/python3.7/dist-packages (from tensorboard->detectron2) (0.36.2)\n",
            "Requirement already satisfied: markdown>=2.6.8 in /usr/local/lib/python3.7/dist-packages (from tensorboard->detectron2) (3.3.4)\n",
            "Requirement already satisfied: tensorboard-data-server<0.7.0,>=0.6.0 in /usr/local/lib/python3.7/dist-packages (from tensorboard->detectron2) (0.6.1)\n",
            "Requirement already satisfied: requests<3,>=2.21.0 in /usr/local/lib/python3.7/dist-packages (from tensorboard->detectron2) (2.23.0)\n",
            "Requirement already satisfied: google-auth<2,>=1.6.3 in /usr/local/lib/python3.7/dist-packages (from tensorboard->detectron2) (1.31.0)\n",
            "Requirement already satisfied: protobuf>=3.6.0 in /usr/local/lib/python3.7/dist-packages (from tensorboard->detectron2) (3.12.4)\n",
            "Requirement already satisfied: werkzeug>=0.11.15 in /usr/local/lib/python3.7/dist-packages (from tensorboard->detectron2) (1.0.1)\n",
            "Requirement already satisfied: google-auth-oauthlib<0.5,>=0.4.1 in /usr/local/lib/python3.7/dist-packages (from tensorboard->detectron2) (0.4.4)\n",
            "Requirement already satisfied: pyparsing!=2.0.4,!=2.1.2,!=2.1.6,>=2.0.1 in /usr/local/lib/python3.7/dist-packages (from matplotlib->detectron2) (2.4.7)\n",
            "Requirement already satisfied: kiwisolver>=1.0.1 in /usr/local/lib/python3.7/dist-packages (from matplotlib->detectron2) (1.3.1)\n",
            "Requirement already satisfied: python-dateutil>=2.1 in /usr/local/lib/python3.7/dist-packages (from matplotlib->detectron2) (2.8.1)\n",
            "Requirement already satisfied: cycler>=0.10 in /usr/local/lib/python3.7/dist-packages (from matplotlib->detectron2) (0.10.0)\n",
            "Requirement already satisfied: cython>=0.27.3 in /usr/local/lib/python3.7/dist-packages (from pycocotools>=2.0.2->detectron2) (0.29.23)\n",
            "Requirement already satisfied: portalocker in /usr/local/lib/python3.7/dist-packages (from iopath>=0.1.2->detectron2) (2.3.0)\n",
            "Requirement already satisfied: six>=1.5.2 in /usr/local/lib/python3.7/dist-packages (from grpcio>=1.24.3->tensorboard->detectron2) (1.15.0)\n",
            "Requirement already satisfied: importlib-metadata; python_version < \"3.8\" in /usr/local/lib/python3.7/dist-packages (from markdown>=2.6.8->tensorboard->detectron2) (4.5.0)\n",
            "Requirement already satisfied: certifi>=2017.4.17 in /usr/local/lib/python3.7/dist-packages (from requests<3,>=2.21.0->tensorboard->detectron2) (2021.5.30)\n",
            "Requirement already satisfied: chardet<4,>=3.0.2 in /usr/local/lib/python3.7/dist-packages (from requests<3,>=2.21.0->tensorboard->detectron2) (3.0.4)\n",
            "Requirement already satisfied: urllib3!=1.25.0,!=1.25.1,<1.26,>=1.21.1 in /usr/local/lib/python3.7/dist-packages (from requests<3,>=2.21.0->tensorboard->detectron2) (1.24.3)\n",
            "Requirement already satisfied: idna<3,>=2.5 in /usr/local/lib/python3.7/dist-packages (from requests<3,>=2.21.0->tensorboard->detectron2) (2.10)\n",
            "Requirement already satisfied: pyasn1-modules>=0.2.1 in /usr/local/lib/python3.7/dist-packages (from google-auth<2,>=1.6.3->tensorboard->detectron2) (0.2.8)\n",
            "Requirement already satisfied: rsa<5,>=3.1.4; python_version >= \"3.6\" in /usr/local/lib/python3.7/dist-packages (from google-auth<2,>=1.6.3->tensorboard->detectron2) (4.7.2)\n",
            "Requirement already satisfied: cachetools<5.0,>=2.0.0 in /usr/local/lib/python3.7/dist-packages (from google-auth<2,>=1.6.3->tensorboard->detectron2) (4.2.2)\n",
            "Requirement already satisfied: requests-oauthlib>=0.7.0 in /usr/local/lib/python3.7/dist-packages (from google-auth-oauthlib<0.5,>=0.4.1->tensorboard->detectron2) (1.3.0)\n",
            "Requirement already satisfied: zipp>=0.5 in /usr/local/lib/python3.7/dist-packages (from importlib-metadata; python_version < \"3.8\"->markdown>=2.6.8->tensorboard->detectron2) (3.4.1)\n",
            "Requirement already satisfied: typing-extensions>=3.6.4; python_version < \"3.8\" in /usr/local/lib/python3.7/dist-packages (from importlib-metadata; python_version < \"3.8\"->markdown>=2.6.8->tensorboard->detectron2) (3.7.4.3)\n",
            "Requirement already satisfied: pyasn1<0.5.0,>=0.4.6 in /usr/local/lib/python3.7/dist-packages (from pyasn1-modules>=0.2.1->google-auth<2,>=1.6.3->tensorboard->detectron2) (0.4.8)\n",
            "Requirement already satisfied: oauthlib>=3.0.0 in /usr/local/lib/python3.7/dist-packages (from requests-oauthlib>=0.7.0->google-auth-oauthlib<0.5,>=0.4.1->tensorboard->detectron2) (3.1.1)\n"
          ],
          "name": "stdout"
        }
      ]
    },
    {
      "cell_type": "markdown",
      "metadata": {
        "id": "4Gc3-tK7x2Um"
      },
      "source": [
        "# Import Detectron Library"
      ]
    },
    {
      "cell_type": "code",
      "metadata": {
        "id": "dfZFIDStyEl6"
      },
      "source": [
        "# Some basic setup:\n",
        "# Setup detectron2 logger\n",
        "import detectron2\n",
        "from detectron2.utils.logger import setup_logger\n",
        "setup_logger()\n",
        "\n",
        "# import some common libraries\n",
        "import pandas as pd\n",
        "import os, json, random, itertools, uuid\n",
        "from google.colab.patches import cv2_imshow\n",
        "\n",
        "# import some common detectron2 utilities\n",
        "from detectron2 import model_zoo\n",
        "from detectron2.engine import DefaultPredictor\n",
        "from detectron2.config import get_cfg\n",
        "from detectron2.utils.visualizer import Visualizer\n",
        "from detectron2.data import MetadataCatalog, DatasetCatalog\n",
        "from detectron2.structures import BoxMode\n",
        "from detectron2.utils.visualizer import ColorMode"
      ],
      "execution_count": null,
      "outputs": []
    },
    {
      "cell_type": "markdown",
      "metadata": {
        "id": "8sEVImgeyOkx"
      },
      "source": [
        "# Copy Detectron2 Model From Drive"
      ]
    },
    {
      "cell_type": "code",
      "metadata": {
        "colab": {
          "base_uri": "https://localhost:8080/"
        },
        "id": "NDKoBjfWyWIm",
        "outputId": "c80a2f37-48f7-4718-c196-2a603272ce69"
      },
      "source": [
        "from distutils.dir_util import copy_tree\n",
        "copy_tree('/content/mydrive/My Drive/detectron2/', '/content/fish_eye/')\n",
        "copy_tree('/content/mydrive/My Drive/detectron2_output/', '/content/my_trained')\n",
        "# copy_tree('/content/drive/My Drive/datasets/fish_dataset/eye_for_detectron_inference/', '/content/resized_eye/')"
      ],
      "execution_count": null,
      "outputs": [
        {
          "output_type": "execute_result",
          "data": {
            "text/plain": [
              "['/content/my_trained/model_final.pth',\n",
              " '/content/my_trained/last_checkpoint',\n",
              " '/content/my_trained/metrics.json',\n",
              " '/content/my_trained/events.out.tfevents.1621100399.c6bfda2e000e.63.0']"
            ]
          },
          "metadata": {
            "tags": []
          },
          "execution_count": 10
        }
      ]
    },
    {
      "cell_type": "markdown",
      "metadata": {
        "id": "NOnypVazybmT"
      },
      "source": [
        "# Dataset Catalog"
      ]
    },
    {
      "cell_type": "code",
      "metadata": {
        "id": "JjLh0dF1yPT2"
      },
      "source": [
        "# write a function that loads the dataset into detectron2's standard format\n",
        "def get_fish_eye_dicts(csv_file, img_dir):\n",
        "    df = pd.read_csv(csv_file)\n",
        "    df['filename'] = df['filename'].map(lambda x: img_dir+x)\n",
        "\n",
        "    classes = ['bandeng_eye', 'gurame_eye', 'kerapu_eye', 'nila_eye']\n",
        "\n",
        "    df['class_int'] = df['class'].map(lambda x: classes.index(x))\n",
        "\n",
        "    dataset_dicts = []\n",
        "    for filename in df['filename'].unique().tolist():\n",
        "        record = {}\n",
        "        \n",
        "        height, width = cv2.imread(filename).shape[:2]\n",
        "        \n",
        "        record[\"file_name\"] = filename\n",
        "        record[\"height\"] = height\n",
        "        record[\"width\"] = width\n",
        "\n",
        "        objs = []\n",
        "        for index, row in df[(df['filename']==filename)].iterrows():\n",
        "          obj= {\n",
        "              'bbox': [row['xmin'], row['ymin'], row['xmax'], row['ymax']],\n",
        "              'bbox_mode': BoxMode.XYXY_ABS,\n",
        "              'category_id': row['class_int'],\n",
        "              \"iscrowd\": 0\n",
        "          }\n",
        "          objs.append(obj)\n",
        "        record[\"annotations\"] = objs\n",
        "        dataset_dicts.append(record)\n",
        "    return dataset_dicts"
      ],
      "execution_count": null,
      "outputs": []
    },
    {
      "cell_type": "code",
      "metadata": {
        "id": "Up9Ko0LCyfW3"
      },
      "source": [
        "from detectron2.data import DatasetCatalog, MetadataCatalog\n",
        "\n",
        "classes = ['bandeng_eye', 'gurame_eye', 'kerapu_eye', 'nila_eye']\n",
        "\n",
        "for d in [\"train\", \"test\"]:\n",
        "  DatasetCatalog.register('fish/' + d, lambda d=d: get_fish_eye_dicts('fish_eye/' + d + '_eye_labels.csv', 'fish_eye/' + d+'/'))\n",
        "  MetadataCatalog.get('fish/' + d).set(thing_classes=classes)\n",
        "fish_eye_metadata = MetadataCatalog.get('fish/train')"
      ],
      "execution_count": null,
      "outputs": []
    },
    {
      "cell_type": "markdown",
      "metadata": {
        "id": "azlHUWwkylJC"
      },
      "source": [
        "# Load Detectron2 Model"
      ]
    },
    {
      "cell_type": "code",
      "metadata": {
        "id": "9wFgE7qoykqa"
      },
      "source": [
        "from detectron2.engine import DefaultTrainer\n",
        "from detectron2.config import get_cfg\n",
        "\n",
        "cfg = get_cfg()\n",
        "cfg.merge_from_file(model_zoo.get_config_file('COCO-Detection/faster_rcnn_R_101_FPN_3x.yaml'))\n",
        "cfg.DATASETS.TRAIN = ('fish/train',)\n",
        "cfg.DATASETS.TEST = ('fish/test',)\n",
        "cfg.MODEL.WEIGHTS = '/content/my_trained/model_final.pth'\n",
        "cfg.MODEL.DEVICE = 'cpu'\n",
        "cfg.DATALOADER.NUM_WORKERS = 2\n",
        "cfg.SOLVER.IMS_PER_BATCH = 2\n",
        "cfg.SOLVER.MAX_ITER = 1000\n",
        "cfg.MODEL.ROI_HEADS.NUM_CLASSES = 4\n",
        "cfg.MODEL.ROI_HEADS.SCORE_THRESH_TEST = 0.8\n",
        "predictor = DefaultPredictor(cfg)"
      ],
      "execution_count": null,
      "outputs": []
    },
    {
      "cell_type": "markdown",
      "metadata": {
        "id": "5C8YveVvzMVP"
      },
      "source": [
        "# Variables"
      ]
    },
    {
      "cell_type": "code",
      "metadata": {
        "id": "pJXpe6-jysto"
      },
      "source": [
        "detect_eye_picture_width = 1000\n",
        "detect_eye_picture_height = 1000\n",
        "\n",
        "crop_eye_width = 200\n",
        "crop_eye_height = 200"
      ],
      "execution_count": null,
      "outputs": []
    },
    {
      "cell_type": "markdown",
      "metadata": {
        "id": "z-4H6I330Vdc"
      },
      "source": [
        "# Detectron2 Model Inference"
      ]
    },
    {
      "cell_type": "code",
      "metadata": {
        "id": "I-3KB1dO04I6"
      },
      "source": [
        "def detect_fish_eye_position(image_link):\n",
        "  image_url = str(image_link)\n",
        "  image_url = image_url+'?alt=media'\n",
        "  image = url_to_image(image_url)\n",
        "  img = resizeAndPad(image, (detect_eye_picture_width, detect_eye_picture_height), 0)\n",
        "  outputs = predictor(img)\n",
        "  v = Visualizer(img[:, :, ::-1], metadata=fish_eye_metadata, scale=1)\n",
        "  v = v.draw_instance_predictions(outputs[\"instances\"].to(\"cpu\"))\n",
        "  # plt.imshow(cv2.cvtColor(v.get_image()[:, :, ::-1], cv2.COLOR_BGR2RGB))\n",
        "  # plt.show()\n",
        "  boxes = {}\n",
        "  for coordinates in outputs[\"instances\"].to(\"cpu\").pred_boxes:\n",
        "    coordinates_array = []\n",
        "    for k in coordinates:\n",
        "      coordinates_array.append(int(k))\n",
        "    boxes[uuid.uuid4().hex[:].upper()] = coordinates_array\n",
        "  for k,v in boxes.items():\n",
        "    crop_img = img[v[1]:v[3], v[0]:v[2], :]\n",
        "    resized_img = resizeAndPad(crop_img, (crop_eye_width, crop_eye_width), 0)\n",
        "    # plt.imshow(resized_img)\n",
        "    # plt.show()\n",
        "  \n",
        "  # plt.imshow(resized_img)\n",
        "  # plt.show()\n",
        "\n",
        "  if (len(boxes) > 0):\n",
        "    return resized_img\n",
        "  \n",
        "  return 'No Eye Detected'\n",
        "\n",
        "\n",
        "  # return resized_img"
      ],
      "execution_count": null,
      "outputs": []
    },
    {
      "cell_type": "markdown",
      "metadata": {
        "id": "AOebsf-I0oR_"
      },
      "source": [
        "# Predict Freshness From Fish Eye"
      ]
    },
    {
      "cell_type": "markdown",
      "metadata": {
        "id": "eOqhU2Dy8HVx"
      },
      "source": [
        "# Variables"
      ]
    },
    {
      "cell_type": "code",
      "metadata": {
        "id": "KRIUcpTt8JE7"
      },
      "source": [
        "freshness_class_name = ['SEGAR', 'CUKUP_SEGAR', 'TIDAK_SEGAR']"
      ],
      "execution_count": null,
      "outputs": []
    },
    {
      "cell_type": "markdown",
      "metadata": {
        "id": "LHl1nHEg0yjU"
      },
      "source": [
        "# Load Model For Eye Freshness"
      ]
    },
    {
      "cell_type": "code",
      "metadata": {
        "colab": {
          "base_uri": "https://localhost:8080/"
        },
        "id": "58cP75zo0nnb",
        "outputId": "8063faf7-4490-43d5-84b6-d8037ac8f762"
      },
      "source": [
        "# !cp '/content/mydrive/My Drive/eye_model_h5.zip' '/content/eye_model_h5.zip'\n",
        "!unzip '/content/mydrive/My Drive/eye_model_h5.zip' -d '/content/model_eye'"
      ],
      "execution_count": null,
      "outputs": [
        {
          "output_type": "stream",
          "text": [
            "Archive:  /content/mydrive/My Drive/eye_model_h5.zip\n",
            "   creating: /content/model_eye/content/modelh5/\n",
            "  inflating: /content/model_eye/content/modelh5/kerapu_eye_model.h5  \n",
            "  inflating: /content/model_eye/content/modelh5/bandeng_eye_model.h5  \n",
            "  inflating: /content/model_eye/content/modelh5/gurame_eye_model.h5  \n",
            "  inflating: /content/model_eye/content/modelh5/nila_eye_model.h5  \n"
          ],
          "name": "stdout"
        }
      ]
    },
    {
      "cell_type": "code",
      "metadata": {
        "id": "2BjKSOAzG6yA"
      },
      "source": [
        "bandeng_eye_model_load = tf.keras.models.load_model('/content/model_eye/content/modelh5/bandeng_eye_model.h5')\n",
        "gurame_eye_model_load = tf.keras.models.load_model('/content/model_eye/content/modelh5/gurame_eye_model.h5')\n",
        "kerapu_eye_model_load = tf.keras.models.load_model('/content/model_eye/content/modelh5/kerapu_eye_model.h5')\n",
        "nila_eye_model_load = tf.keras.models.load_model('/content/model_eye/content/modelh5/nila_eye_model.h5')"
      ],
      "execution_count": null,
      "outputs": []
    },
    {
      "cell_type": "markdown",
      "metadata": {
        "id": "lwc2-7HOtx_q"
      },
      "source": [
        "# Eye Model Inference"
      ]
    },
    {
      "cell_type": "code",
      "metadata": {
        "id": "oLZl79p02YN4"
      },
      "source": [
        "def predict_eye_freshness(cropped_eye, jenis_ikan):\n",
        "  image = cropped_eye\n",
        "  image = image[...,::-1]\n",
        "  plt.imshow(image)\n",
        "  plt.show()\n",
        "\n",
        "  freshness_eye = ''\n",
        "  freshness_eye_dan_confidence = ''\n",
        "  eye_type_predict = np.expand_dims(image, axis=0)\n",
        "  \n",
        "\n",
        "  if(jenis_ikan.lower() == 'bandeng'):\n",
        "    print('model bandeng')\n",
        "    eye_pred = bandeng_eye_model_load.predict(eye_type_predict)\n",
        "    freshness_eye = freshness_class_name[np.argmax(eye_pred)]\n",
        "    freshness_eye_confidence = int(round(eye_pred[0][np.argmax(eye_pred)], 2) * 100)\n",
        "    freshness_eye_dan_confidence = freshness_eye + ' ' + str(freshness_eye_confidence) + '%'\n",
        "\n",
        "  elif(jenis_ikan.lower() == 'gurame'):\n",
        "    print('model gurame')\n",
        "    eye_pred = gurame_eye_model_load.predict(eye_type_predict)\n",
        "    freshness_eye = freshness_class_name[np.argmax(eye_pred)]\n",
        "    freshness_eye_confidence = int(round(eye_pred[0][np.argmax(eye_pred)], 2) * 100)\n",
        "    freshness_eye_dan_confidence = freshness_eye + ' ' + str(freshness_eye_confidence) + '%'\n",
        "\n",
        "  elif(jenis_ikan.lower() == 'kerapu'):\n",
        "    print('model kerapu')\n",
        "    eye_pred = kerapu_eye_model_load.predict(eye_type_predict)\n",
        "    freshness_eye = freshness_class_name[np.argmax(eye_pred)]\n",
        "    freshness_eye_confidence = int(round(eye_pred[0][np.argmax(eye_pred)], 2) * 100)\n",
        "    freshness_eye_dan_confidence = freshness_eye + ' ' + str(freshness_eye_confidence) + '%'\n",
        "\n",
        "  elif(jenis_ikan.lower() == 'nila'):\n",
        "    print('model nila')\n",
        "    eye_pred = nila_eye_model_load.predict(eye_type_predict)\n",
        "    freshness_eye = freshness_class_name[np.argmax(eye_pred)]\n",
        "    freshness_eye_confidence = int(round(eye_pred[0][np.argmax(eye_pred)], 2) * 100)\n",
        "    freshness_eye_dan_confidence = freshness_eye + ' ' + str(freshness_eye_confidence) + '%'\n",
        "  \n",
        "  print(freshness_eye)\n",
        "  \n",
        "\n",
        "  # return freshness_eye\n",
        "  return freshness_eye_dan_confidence"
      ],
      "execution_count": null,
      "outputs": []
    },
    {
      "cell_type": "markdown",
      "metadata": {
        "id": "czhCHDUfKnNs"
      },
      "source": [
        "# Predict Fish Freshness From Gill"
      ]
    },
    {
      "cell_type": "markdown",
      "metadata": {
        "id": "Q2ltwuSMKrks"
      },
      "source": [
        "# Load Model For Gill Freshness"
      ]
    },
    {
      "cell_type": "code",
      "metadata": {
        "id": "isRJYgA8KmZt",
        "colab": {
          "base_uri": "https://localhost:8080/"
        },
        "outputId": "3771885b-c142-45ce-819c-c3bae02259d3"
      },
      "source": [
        "!unzip '/content/mydrive/My Drive/gill_model_h5.zip' -d '/content/model_gill'"
      ],
      "execution_count": null,
      "outputs": [
        {
          "output_type": "stream",
          "text": [
            "Archive:  /content/mydrive/My Drive/gill_model_h5.zip\n",
            "   creating: /content/model_gill/content/modelh5/\n",
            "  inflating: /content/model_gill/content/modelh5/gurame_gill_model.h5  \n",
            "  inflating: /content/model_gill/content/modelh5/bandeng_gill_model.h5  \n",
            "  inflating: /content/model_gill/content/modelh5/nila_gill_model.h5  \n",
            "  inflating: /content/model_gill/content/modelh5/kerapu_gill_model.h5  \n"
          ],
          "name": "stdout"
        }
      ]
    },
    {
      "cell_type": "code",
      "metadata": {
        "id": "_PiulpqrH25D"
      },
      "source": [
        "bandeng_gill_model_load = tf.keras.models.load_model('/content/model_gill/content/modelh5/bandeng_gill_model.h5')\n",
        "gurame_gill_model_load = tf.keras.models.load_model('/content/model_gill/content/modelh5/gurame_gill_model.h5')\n",
        "kerapu_gill_model_load = tf.keras.models.load_model('/content/model_gill/content/modelh5/kerapu_gill_model.h5')\n",
        "nila_gill_model_load = tf.keras.models.load_model('/content/model_gill/content/modelh5/nila_gill_model.h5')"
      ],
      "execution_count": null,
      "outputs": []
    },
    {
      "cell_type": "markdown",
      "metadata": {
        "id": "PfIIjIZOO2EE"
      },
      "source": [
        "# Variables"
      ]
    },
    {
      "cell_type": "code",
      "metadata": {
        "id": "Vi08naTbOzHR"
      },
      "source": [
        "crop_gill_width = 200\n",
        "crop_gill_height = 200"
      ],
      "execution_count": null,
      "outputs": []
    },
    {
      "cell_type": "markdown",
      "metadata": {
        "id": "DsIjNQfeLq75"
      },
      "source": [
        "# Masking"
      ]
    },
    {
      "cell_type": "code",
      "metadata": {
        "id": "kUHx9uLqMsZ_"
      },
      "source": [
        "def transparentBG(gambar):\n",
        "    src = gambar\n",
        "    tmp = cv2.cvtColor(src, cv2.COLOR_BGR2GRAY)\n",
        "    _,alpha = cv2.threshold(tmp,0,255,cv2.THRESH_BINARY)\n",
        "    b, g, r = cv2.split(src)\n",
        "    rgba = [b,g,r, alpha]\n",
        "    output = cv2.merge(rgba,4)\n",
        "\n",
        "    return output"
      ],
      "execution_count": null,
      "outputs": []
    },
    {
      "cell_type": "code",
      "metadata": {
        "id": "_kCaFz-FLtEU"
      },
      "source": [
        "def masking(gambar, h1, s1, v1, h2, s2, v2):\n",
        "    # gambar = cv2.imread(nama_gambar)\n",
        "    gauss_blur = cv2.GaussianBlur(gambar, (3,3), 0)\n",
        "    hsv = cv2.cvtColor(gauss_blur, cv2.COLOR_BGR2HSV)\n",
        "\n",
        "    merah_low = np.array([h1, s1, v1])\n",
        "    merah_up = np.array([h2, s2, v2])\n",
        "    \n",
        "    gambar_masking = cv2.inRange(hsv, merah_low, merah_up)\n",
        "    hasil_masking = cv2.bitwise_and(gambar, gambar, mask=gambar_masking)\n",
        "    # hasil_masking = transparentBG(hasil_masking)\n",
        "\n",
        "    return hasil_masking"
      ],
      "execution_count": null,
      "outputs": []
    },
    {
      "cell_type": "markdown",
      "metadata": {
        "id": "b0Ec1Yrxt4CF"
      },
      "source": [
        "# Gill Model Inference"
      ]
    },
    {
      "cell_type": "code",
      "metadata": {
        "id": "7a4eB6NlK_pV"
      },
      "source": [
        "def predict_gill_freshness(image_link, jenis_ikan):\n",
        "  freshness_gill = ''\n",
        "  freshness_gill_dan_confidence = ''\n",
        "    \n",
        "  image_url = str(image_link)\n",
        "  image_url = image_url+'?alt=media'\n",
        "  image = url_to_image(image_url)\n",
        "  img = resizeAndPad(image, (crop_gill_width, crop_gill_height), 0)\n",
        "  \n",
        "  # gill_model_load = tf.keras.models.load_model('/content/model_gill/content/modelh5/bandeng_gill_model.h5')\n",
        "\n",
        "  if(jenis_ikan.lower() == 'bandeng'):\n",
        "    img = masking(img, 130, 55, 0, 179, 255, 255)\n",
        "    img = img[...,::-1]\n",
        "    gill_type_predict = np.expand_dims(img, axis=0)\n",
        "    gill_pred = bandeng_gill_model_load.predict(gill_type_predict)\n",
        "    freshness_gill = freshness_class_name[np.argmax(gill_pred)]\n",
        "    gill_confidence = int(round(gill_pred[0][np.argmax(gill_pred)], 2) * 100)\n",
        "    freshness_gill_dan_confidence = freshness_gill + ' ' + str(gill_confidence) + '%'\n",
        "\n",
        "  elif(jenis_ikan.lower() == 'gurame'):\n",
        "    img = masking(img, 118, 84, 0, 179, 255, 255)\n",
        "    img = img[...,::-1]\n",
        "    gill_type_predict = np.expand_dims(img, axis=0)\n",
        "    gill_pred = gurame_gill_model_load.predict(gill_type_predict)\n",
        "    freshness_gill = freshness_class_name[np.argmax(gill_pred)]\n",
        "    gill_confidence = int(round(gill_pred[0][np.argmax(gill_pred)], 2) * 100)\n",
        "    freshness_gill_dan_confidence = freshness_gill + ' ' + str(gill_confidence) + '%'\n",
        "\n",
        "  elif(jenis_ikan.lower() == 'kerapu'):\n",
        "    img = masking(img, 136, 87, 0, 179, 255, 255)\n",
        "    img = img[...,::-1]\n",
        "    gill_type_predict = np.expand_dims(img, axis=0)\n",
        "    gill_pred = kerapu_gill_model_load.predict(gill_type_predict)\n",
        "    freshness_gill = freshness_class_name[np.argmax(gill_pred)]\n",
        "    gill_confidence = int(round(gill_pred[0][np.argmax(gill_pred)], 2) * 100)\n",
        "    freshness_gill_dan_confidence = freshness_gill + ' ' + str(gill_confidence) + '%'\n",
        "\n",
        "  elif(jenis_ikan.lower() == 'nila'):\n",
        "    img = masking(img, 113, 76, 0, 179, 255, 255)\n",
        "    img = img[...,::-1]\n",
        "    gill_type_predict = np.expand_dims(img, axis=0)\n",
        "    gill_pred = nila_gill_model_load.predict(gill_type_predict)\n",
        "    freshness_gill = freshness_class_name[np.argmax(gill_pred)]\n",
        "    gill_confidence = int(round(gill_pred[0][np.argmax(gill_pred)], 2) * 100)\n",
        "    freshness_gill_dan_confidence = freshness_gill + ' ' + str(gill_confidence) + '%'\n",
        "\n",
        "  # print(gill_pred)\n",
        "  # print(freshness_class_name[np.argmax(gill_pred)])\n",
        "  print(freshness_gill)\n",
        "\n",
        "  \n",
        "  # return freshness_gill\n",
        "  return freshness_gill_dan_confidence"
      ],
      "execution_count": null,
      "outputs": []
    },
    {
      "cell_type": "markdown",
      "metadata": {
        "id": "6LA3SF36uzjh"
      },
      "source": [
        "# Testing Only (SKIP THIS)"
      ]
    },
    {
      "cell_type": "code",
      "metadata": {
        "id": "08O8bL_mroyu"
      },
      "source": [
        "def predict_gill_freshness_test(image_name, jenis_ikan):\n",
        "  freshness_gill = ''\n",
        "  image = cv2.imread(image_name)\n",
        "  img = resizeAndPad(image, (crop_gill_width, crop_gill_height), 0)\n",
        "  print(image_name)\n",
        "  \n",
        "  # gill_model_load = tf.keras.models.load_model('/content/model_gill/content/modelh5/bandeng_gill_model.h5')\n",
        "\n",
        "  if(jenis_ikan.lower() == 'bandeng'):\n",
        "    img = masking(img, 130, 55, 0, 179, 255, 255)\n",
        "    img = img[...,::-1]\n",
        "    gill_type_predict = np.expand_dims(img, axis=0)\n",
        "    gill_pred = bandeng_gill_model_load.predict(gill_type_predict)\n",
        "    freshness_gill = freshness_class_name[np.argmax(gill_pred)]\n",
        "\n",
        "  elif(jenis_ikan.lower() == 'gurame'):\n",
        "    img = masking(img, 118, 84, 0, 179, 255, 255)\n",
        "    img = img[...,::-1]\n",
        "    gill_type_predict = np.expand_dims(img, axis=0)\n",
        "    gill_pred = gurame_gill_model_load.predict(gill_type_predict)\n",
        "    freshness_gill = freshness_class_name[np.argmax(gill_pred)]\n",
        "\n",
        "  elif(jenis_ikan.lower() == 'kerapu'):\n",
        "    img = masking(img, 136, 87, 0, 179, 255, 255)\n",
        "    img = img[...,::-1]\n",
        "    gill_type_predict = np.expand_dims(img, axis=0)\n",
        "    gill_pred = kerapu_gill_model_load.predict(gill_type_predict)\n",
        "    freshness_gill = freshness_class_name[np.argmax(gill_pred)]\n",
        "\n",
        "  elif(jenis_ikan.lower() == 'nila'):\n",
        "    img = masking(img, 113, 76, 0, 179, 255, 255)\n",
        "    img = img[...,::-1]\n",
        "    gill_type_predict = np.expand_dims(img, axis=0)\n",
        "    gill_pred = nila_gill_model_load.predict(gill_type_predict)\n",
        "    freshness_gill = freshness_class_name[np.argmax(gill_pred)]\n",
        "\n",
        "  # print(gill_pred)\n",
        "  # print(freshness_class_name[np.argmax(gill_pred)])\n",
        "  plt.imshow(img)\n",
        "  plt.show()\n",
        "  confidence = round(gill_pred[0][np.argmax(gill_pred)], 2) * 100\n",
        "  print(\"{:.2f}\".format(confidence))\n",
        "  \n",
        "  cv2.imwrite(f\"{image_name.split('.')[0]}_masked.jpg\", cv2.cvtColor(img, cv2.COLOR_BGR2RGB))\n",
        "  print(freshness_gill)\n",
        "  \n",
        "  return freshness_gill"
      ],
      "execution_count": null,
      "outputs": []
    },
    {
      "cell_type": "code",
      "metadata": {
        "id": "7oMFwt9Htd6d"
      },
      "source": [
        "!mv *.jpg '/content/nila'"
      ],
      "execution_count": null,
      "outputs": []
    },
    {
      "cell_type": "code",
      "metadata": {
        "colab": {
          "base_uri": "https://localhost:8080/",
          "height": 1000
        },
        "id": "R7AxSDUdr5gR",
        "outputId": "bccdacb6-ed30-4da3-f6df-fa0a153f0a20"
      },
      "source": [
        "from glob import glob\n",
        "\n",
        "for image_name in glob('/content/*.*'):\n",
        "  predict_gill_freshness_test(image_name, 'bandeng')"
      ],
      "execution_count": null,
      "outputs": [
        {
          "output_type": "stream",
          "text": [
            "/content/IMG_20210520_132159.jpg\n"
          ],
          "name": "stdout"
        },
        {
          "output_type": "display_data",
          "data": {
            "image/png": "[encoded data removed]",
            "text/plain": [
              "<Figure size 432x288 with 1 Axes>"
            ]
          },
          "metadata": {
            "tags": [],
            "needs_background": "light"
          }
        },
        {
          "output_type": "stream",
          "text": [
            "TIDAK_SEGAR\n",
            "/content/IMG_20210520_132219.jpg\n"
          ],
          "name": "stdout"
        },
        {
          "output_type": "display_data",
          "data": {
            "image/png": "[encoded data removed]",
            "text/plain": [
              "<Figure size 432x288 with 1 Axes>"
            ]
          },
          "metadata": {
            "tags": [],
            "needs_background": "light"
          }
        },
        {
          "output_type": "stream",
          "text": [
            "TIDAK_SEGAR\n",
            "/content/IMG_20210520_132941.jpg\n"
          ],
          "name": "stdout"
        },
        {
          "output_type": "display_data",
          "data": {
            "image/png": "[encoded data removed]",
            "text/plain": [
              "<Figure size 432x288 with 1 Axes>"
            ]
          },
          "metadata": {
            "tags": [],
            "needs_background": "light"
          }
        },
        {
          "output_type": "stream",
          "text": [
            "TIDAK_SEGAR\n",
            "/content/IMG_20210520_132215.jpg\n"
          ],
          "name": "stdout"
        },
        {
          "output_type": "display_data",
          "data": {
            "image/png": "[encoded data removed]",
            "text/plain": [
              "<Figure size 432x288 with 1 Axes>"
            ]
          },
          "metadata": {
            "tags": [],
            "needs_background": "light"
          }
        },
        {
          "output_type": "stream",
          "text": [
            "TIDAK_SEGAR\n",
            "/content/IMG_20210520_132925.jpg\n"
          ],
          "name": "stdout"
        },
        {
          "output_type": "display_data",
          "data": {
            "image/png": "[encoded data removed]",
            "text/plain": [
              "<Figure size 432x288 with 1 Axes>"
            ]
          },
          "metadata": {
            "tags": [],
            "needs_background": "light"
          }
        },
        {
          "output_type": "stream",
          "text": [
            "SEGAR\n",
            "/content/IMG_20210520_132151.jpg\n"
          ],
          "name": "stdout"
        },
        {
          "output_type": "display_data",
          "data": {
            "image/png": "[encoded data removed]",
            "text/plain": [
              "<Figure size 432x288 with 1 Axes>"
            ]
          },
          "metadata": {
            "tags": [],
            "needs_background": "light"
          }
        },
        {
          "output_type": "stream",
          "text": [
            "TIDAK_SEGAR\n"
          ],
          "name": "stdout"
        }
      ]
    },
    {
      "cell_type": "markdown",
      "metadata": {
        "id": "-u6mN-hGwA9Y"
      },
      "source": [
        "# Flask API Biasa"
      ]
    },
    {
      "cell_type": "code",
      "metadata": {
        "id": "Q460YyREfJz6",
        "colab": {
          "base_uri": "https://localhost:8080/"
        },
        "outputId": "d37ac54c-ee9e-45b7-94dd-fd24b2566fef"
      },
      "source": [
        "!pip install flask-ngrok"
      ],
      "execution_count": null,
      "outputs": [
        {
          "output_type": "stream",
          "text": [
            "Collecting flask-ngrok\n",
            "  Downloading https://files.pythonhosted.org/packages/af/6c/f54cb686ad1129e27d125d182f90f52b32f284e6c8df58c1bae54fa1adbc/flask_ngrok-0.0.25-py3-none-any.whl\n",
            "Requirement already satisfied: Flask>=0.8 in /usr/local/lib/python3.7/dist-packages (from flask-ngrok) (1.1.4)\n",
            "Requirement already satisfied: requests in /usr/local/lib/python3.7/dist-packages (from flask-ngrok) (2.23.0)\n",
            "Requirement already satisfied: Jinja2<3.0,>=2.10.1 in /usr/local/lib/python3.7/dist-packages (from Flask>=0.8->flask-ngrok) (2.11.3)\n",
            "Requirement already satisfied: click<8.0,>=5.1 in /usr/local/lib/python3.7/dist-packages (from Flask>=0.8->flask-ngrok) (7.1.2)\n",
            "Requirement already satisfied: itsdangerous<2.0,>=0.24 in /usr/local/lib/python3.7/dist-packages (from Flask>=0.8->flask-ngrok) (1.1.0)\n",
            "Requirement already satisfied: Werkzeug<2.0,>=0.15 in /usr/local/lib/python3.7/dist-packages (from Flask>=0.8->flask-ngrok) (1.0.1)\n",
            "Requirement already satisfied: certifi>=2017.4.17 in /usr/local/lib/python3.7/dist-packages (from requests->flask-ngrok) (2021.5.30)\n",
            "Requirement already satisfied: chardet<4,>=3.0.2 in /usr/local/lib/python3.7/dist-packages (from requests->flask-ngrok) (3.0.4)\n",
            "Requirement already satisfied: urllib3!=1.25.0,!=1.25.1,<1.26,>=1.21.1 in /usr/local/lib/python3.7/dist-packages (from requests->flask-ngrok) (1.24.3)\n",
            "Requirement already satisfied: idna<3,>=2.5 in /usr/local/lib/python3.7/dist-packages (from requests->flask-ngrok) (2.10)\n",
            "Requirement already satisfied: MarkupSafe>=0.23 in /usr/local/lib/python3.7/dist-packages (from Jinja2<3.0,>=2.10.1->Flask>=0.8->flask-ngrok) (2.0.1)\n",
            "Installing collected packages: flask-ngrok\n",
            "Successfully installed flask-ngrok-0.0.25\n"
          ],
          "name": "stdout"
        }
      ]
    },
    {
      "cell_type": "code",
      "metadata": {
        "id": "ZH8HbZdzfsMr"
      },
      "source": [
        "from flask import Flask, jsonify, request\n",
        "from flask_ngrok import run_with_ngrok"
      ],
      "execution_count": null,
      "outputs": []
    },
    {
      "cell_type": "code",
      "metadata": {
        "id": "ZYJZQnTOfxaY",
        "colab": {
          "base_uri": "https://localhost:8080/",
          "height": 671
        },
        "outputId": "5aff66bd-ab53-4cd6-e353-07258d65c9f0"
      },
      "source": [
        "app = Flask(__name__)\n",
        "run_with_ngrok(app)   \n",
        "  \n",
        "fish_class = ' '\n",
        "\n",
        "@app.route('/', methods=['GET', 'POST'])\n",
        "def index():\n",
        "  if (request.method == 'POST'):\n",
        "    some_json = request.get_json()\n",
        "    return jsonify({'you sent': some_json}), 201\n",
        "  else:\n",
        "    return jsonify({'about': 'Hello World!'})\n",
        "\n",
        "@app.route('/jenis/<path:linktoimage>')\n",
        "def fish_classification(linktoimage):\n",
        "  image_url = str(linktoimage)\n",
        "  predict_img = predict_fish_classification(image_url)\n",
        "  # img = url_to_image(image_url)\n",
        "  print(predict_img)\n",
        "  global fish_class\n",
        "  fish_class = predict_img.lower()\n",
        "  print('Fish Class ', end='')\n",
        "  print(fish_class)\n",
        "  return jsonify({'url': str(image_url), 'jenis': str(predict_img).title()})\n",
        "\n",
        "@app.route('/setjenis/<jenissetvalue>')\n",
        "def set_jenis_ikan(jenissetvalue):\n",
        "  global fish_class\n",
        "  fish_class = jenissetvalue.lower()\n",
        "  print('Fish Class after set ', end='')\n",
        "  print(fish_class)\n",
        "  return jsonify({'status': 'success', 'jenis': fish_class.title()})\n",
        "\n",
        "@app.route('/mata/<path:linktoeyeimage>')\n",
        "def eye_freshness(linktoeyeimage):\n",
        "  # image_eye = str(linktoeyeimage)\n",
        "  print('Fish Class From Eye ', end='')\n",
        "  print(fish_class)\n",
        "  eye_position = detect_fish_eye_position(linktoeyeimage)\n",
        "  eye_freshness_prediction = 'Mata Tidak Terdeteksi'\n",
        "  if (eye_position != 'No Eye Detected'):\n",
        "    eye_freshness_prediction = predict_eye_freshness(eye_position, fish_class.split(' ')[0])\n",
        "    # eye_freshness_prediction = eye_freshness_prediction.replace('_', ' ')\n",
        "  return jsonify({'url': str(linktoeyeimage), 'jenis': str(fish_class).title(), 'kesegaran_mata': str(eye_freshness_prediction).title()})\n",
        "\n",
        "@app.route('/insang/<path:linktogillimage>')\n",
        "def gill_freshness(linktogillimage):\n",
        "  # image_gill = str(linktogillimage)\n",
        "  gill_freshness_prediction = predict_gill_freshness(linktogillimage, fish_class.split(' ')[0])\n",
        "  # gill_freshness_prediction = gill_freshness_prediction.replace('_', ' ')\n",
        "  print(gill_freshness_prediction)\n",
        "  return jsonify({'url': str(linktogillimage), 'jenis': str(fish_class).title(), 'kesegaran_insang': str(gill_freshness_prediction).title()})\n",
        "\n",
        "if __name__ == '__main__':\n",
        "  app.run()"
      ],
      "execution_count": null,
      "outputs": [
        {
          "output_type": "stream",
          "text": [
            " * Serving Flask app \"__main__\" (lazy loading)\n",
            " * Environment: production\n",
            "\u001b[31m   WARNING: This is a development server. Do not use it in a production deployment.\u001b[0m\n",
            "\u001b[2m   Use a production WSGI server instead.\u001b[0m\n",
            " * Debug mode: off\n"
          ],
          "name": "stdout"
        },
        {
          "output_type": "stream",
          "text": [
            " * Running on http://127.0.0.1:5000/ (Press CTRL+C to quit)\n"
          ],
          "name": "stderr"
        },
        {
          "output_type": "stream",
          "text": [
            " * Running on http://65da0f023199.ngrok.io\n",
            " * Traffic stats available on http://127.0.0.1:4040\n"
          ],
          "name": "stdout"
        },
        {
          "output_type": "stream",
          "text": [
            "127.0.0.1 - - [29/Jun/2021 19:15:30] \"\u001b[37mGET /jenis/https://firebasestorage.googleapis.com/v0/b/skripsisaya-ikan.appspot.com/o/image_picker3258516666451837839.jpg HTTP/1.1\u001b[0m\" 200 -\n"
          ],
          "name": "stderr"
        },
        {
          "output_type": "stream",
          "text": [
            "[[1. 0. 0. 0.]]\n",
            "BANDENG\n",
            "BANDENG 100%\n",
            "Fish Class bandeng 100%\n",
            "Fish Class From Eye bandeng 100%\n"
          ],
          "name": "stdout"
        },
        {
          "output_type": "stream",
          "text": [
            "/usr/local/lib/python3.7/dist-packages/ipykernel_launcher.py:41: FutureWarning: elementwise comparison failed; returning scalar instead, but in the future will perform elementwise comparison\n"
          ],
          "name": "stderr"
        },
        {
          "output_type": "display_data",
          "data": {
            "image/png": "[encoded data removed]",
            "text/plain": [
              "<Figure size 432x288 with 1 Axes>"
            ]
          },
          "metadata": {
            "tags": [],
            "needs_background": "light"
          }
        },
        {
          "output_type": "stream",
          "text": [
            "127.0.0.1 - - [29/Jun/2021 19:16:03] \"\u001b[37mGET /mata/https://firebasestorage.googleapis.com/v0/b/skripsisaya-ikan.appspot.com/o/image_picker2687351741742290337.jpg HTTP/1.1\u001b[0m\" 200 -\n"
          ],
          "name": "stderr"
        },
        {
          "output_type": "stream",
          "text": [
            "model bandeng\n",
            "TIDAK_SEGAR\n"
          ],
          "name": "stdout"
        },
        {
          "output_type": "stream",
          "text": [
            "127.0.0.1 - - [29/Jun/2021 19:16:30] \"\u001b[37mGET /insang/https://firebasestorage.googleapis.com/v0/b/skripsisaya-ikan.appspot.com/o/image_picker4157995788214516540.jpg HTTP/1.1\u001b[0m\" 200 -\n"
          ],
          "name": "stderr"
        },
        {
          "output_type": "stream",
          "text": [
            "SEGAR\n",
            "SEGAR 100%\n"
          ],
          "name": "stdout"
        }
      ]
    },
    {
      "cell_type": "code",
      "metadata": {
        "colab": {
          "base_uri": "https://localhost:8080/"
        },
        "id": "Izl9npf9SAVe",
        "outputId": "fce03d42-15c3-4824-f0e8-237206afc510"
      },
      "source": [
        "im = url_to_image(\"https://firebasestorage.googleapis.com/v0/b/skripsisaya-ikan.appspot.com/o/337d2113-4fab-4e20-965c-32b30e84f0e85464851851665598713.jpg?alt=media\")\n",
        "# plt.imshow(im)\n",
        "im.shape"
      ],
      "execution_count": null,
      "outputs": [
        {
          "output_type": "execute_result",
          "data": {
            "text/plain": [
              "(1280, 960, 3)"
            ]
          },
          "metadata": {
            "tags": []
          },
          "execution_count": 17
        }
      ]
    },
    {
      "cell_type": "markdown",
      "metadata": {
        "id": "PLUHXRTRtb-b"
      },
      "source": [
        "# Flask RESTful"
      ]
    },
    {
      "cell_type": "code",
      "metadata": {
        "colab": {
          "base_uri": "https://localhost:8080/"
        },
        "id": "AqQV-NMmqgXH",
        "outputId": "64225b68-d663-4d06-cc92-515289d21a9f"
      },
      "source": [
        "!pip install Flask-RESTful"
      ],
      "execution_count": null,
      "outputs": [
        {
          "output_type": "stream",
          "text": [
            "Collecting Flask-RESTful\n",
            "  Downloading https://files.pythonhosted.org/packages/e9/83/d0d33c971de2d38e54b0037136c8b8d20b9c83d308bc6c220a25162755fd/Flask_RESTful-0.3.8-py2.py3-none-any.whl\n",
            "Requirement already satisfied: Flask>=0.8 in /usr/local/lib/python3.7/dist-packages (from Flask-RESTful) (1.1.2)\n",
            "Collecting aniso8601>=0.82\n",
            "\u001b[?25l  Downloading https://files.pythonhosted.org/packages/e3/04/e97c12dc034791d7b504860acfcdd2963fa21ae61eaca1c9d31245f812c3/aniso8601-9.0.1-py2.py3-none-any.whl (52kB)\n",
            "\u001b[K     |████████████████████████████████| 61kB 4.2MB/s \n",
            "\u001b[?25hRequirement already satisfied: six>=1.3.0 in /usr/local/lib/python3.7/dist-packages (from Flask-RESTful) (1.15.0)\n",
            "Requirement already satisfied: pytz in /usr/local/lib/python3.7/dist-packages (from Flask-RESTful) (2018.9)\n",
            "Requirement already satisfied: itsdangerous>=0.24 in /usr/local/lib/python3.7/dist-packages (from Flask>=0.8->Flask-RESTful) (1.1.0)\n",
            "Requirement already satisfied: click>=5.1 in /usr/local/lib/python3.7/dist-packages (from Flask>=0.8->Flask-RESTful) (7.1.2)\n",
            "Requirement already satisfied: Jinja2>=2.10.1 in /usr/local/lib/python3.7/dist-packages (from Flask>=0.8->Flask-RESTful) (2.11.3)\n",
            "Requirement already satisfied: Werkzeug>=0.15 in /usr/local/lib/python3.7/dist-packages (from Flask>=0.8->Flask-RESTful) (1.0.1)\n",
            "Requirement already satisfied: MarkupSafe>=0.23 in /usr/local/lib/python3.7/dist-packages (from Jinja2>=2.10.1->Flask>=0.8->Flask-RESTful) (1.1.1)\n",
            "Installing collected packages: aniso8601, Flask-RESTful\n",
            "Successfully installed Flask-RESTful-0.3.8 aniso8601-9.0.1\n"
          ],
          "name": "stdout"
        }
      ]
    },
    {
      "cell_type": "code",
      "metadata": {
        "colab": {
          "base_uri": "https://localhost:8080/"
        },
        "id": "YLfFViIYqba2",
        "outputId": "5248e189-c1bf-4808-9e44-f50e3a9265b7"
      },
      "source": [
        "from flask_restful import Resource, Api\n",
        "\n",
        "app = Flask(__name__)\n",
        "api = Api(app)\n",
        "\n",
        "run_with_ngrok(app)   \n",
        "  \n",
        "class HelloWorld(Resource):\n",
        "  def get(self):\n",
        "    return {'about':'hello'}\n",
        "\n",
        "  def post(self):\n",
        "    some_json = request.get_json()\n",
        "    return {'sent': some_json}, 201\n",
        "\n",
        "class Multi(Resource):\n",
        "  def get(self, num):\n",
        "    return {'res': num*10}\n",
        "\n",
        "api.add_resource(HelloWorld, '/')\n",
        "api.add_resource(Multi, '/multi/<int:num>')\n",
        "\n",
        "if __name__ == '__main__':\n",
        "  app.run()"
      ],
      "execution_count": null,
      "outputs": [
        {
          "output_type": "stream",
          "text": [
            " * Serving Flask app \"__main__\" (lazy loading)\n",
            " * Environment: production\n",
            "\u001b[31m   WARNING: This is a development server. Do not use it in a production deployment.\u001b[0m\n",
            "\u001b[2m   Use a production WSGI server instead.\u001b[0m\n",
            " * Debug mode: off\n"
          ],
          "name": "stdout"
        },
        {
          "output_type": "stream",
          "text": [
            " * Running on http://127.0.0.1:5000/ (Press CTRL+C to quit)\n"
          ],
          "name": "stderr"
        },
        {
          "output_type": "stream",
          "text": [
            " * Running on http://ab8b3b0dc923.ngrok.io\n",
            " * Traffic stats available on http://127.0.0.1:4040\n"
          ],
          "name": "stdout"
        },
        {
          "output_type": "stream",
          "text": [
            "127.0.0.1 - - [07/Apr/2021 09:33:54] \"\u001b[37mGET / HTTP/1.1\u001b[0m\" 200 -\n",
            "127.0.0.1 - - [07/Apr/2021 09:34:05] \"\u001b[37mGET /multi/22 HTTP/1.1\u001b[0m\" 200 -\n",
            "127.0.0.1 - - [07/Apr/2021 09:34:52] \"\u001b[31m\u001b[1mPOST / HTTP/1.1\u001b[0m\" 400 -\n",
            "127.0.0.1 - - [07/Apr/2021 09:35:42] \"\u001b[31m\u001b[1mPOST / HTTP/1.1\u001b[0m\" 400 -\n"
          ],
          "name": "stderr"
        }
      ]
    }
  ]
}